{
 "cells": [
  {
   "cell_type": "code",
   "execution_count": 1,
   "id": "c54f55b3-b240-42d8-9ecd-91314202e388",
   "metadata": {},
   "outputs": [
    {
     "data": {
      "text/plain": [
       "'dlroW olleH'"
      ]
     },
     "execution_count": 1,
     "metadata": {},
     "output_type": "execute_result"
    }
   ],
   "source": [
    "# 1  Write code to reverse string\n",
    "String = 'Hello World'\n",
    "String[::-1]"
   ]
  },
  {
   "cell_type": "code",
   "execution_count": 43,
   "id": "3f87cc29-779a-485e-9082-81ec17952bb4",
   "metadata": {},
   "outputs": [
    {
     "name": "stdout",
     "output_type": "stream",
     "text": [
      "14\n"
     ]
    }
   ],
   "source": [
    "# 2  Write code to count the number of vowels in string\n",
    "String1 = 'This code is for counting the vowel.ELEPHANT'\n",
    "\n",
    "vowel = String1.count('a') + String1.count('e') + String1.count('i') + String1.count('o') + String1.count('u') + String1.count('A') + String1.count('E') + String1.count('I') + String1.count('O') + String1.count('U')\n",
    "\n",
    "print(vowel)"
   ]
  },
  {
   "cell_type": "code",
   "execution_count": 12,
   "id": "944dd344-7a7c-4080-8a48-74d5522b4caa",
   "metadata": {},
   "outputs": [
    {
     "name": "stdout",
     "output_type": "stream",
     "text": [
      "This string is palidrome\n"
     ]
    }
   ],
   "source": [
    "# 3 Write code to check if given string is palindrome or not .\n",
    "String2 = 'Level'\n",
    "if String2[:2].lower() == String2[-2:][::-1].lower() : \n",
    "    print('This string is palidrome')\n",
    "else : \n",
    "    print('This string is not palidrome')   "
   ]
  },
  {
   "cell_type": "code",
   "execution_count": 6,
   "id": "e6a7ba8c-22b4-46a6-bf04-761ae02456f6",
   "metadata": {},
   "outputs": [
    {
     "name": "stdout",
     "output_type": "stream",
     "text": [
      "players is anagrams of parsley\n"
     ]
    }
   ],
   "source": [
    "# 4 Write code to check if two given strings are anagrams of each other .\n",
    "text1 = 'players'\n",
    "text2 = 'parsley'\n",
    "count = 0\n",
    "for i in text1.lower() :\n",
    "    if i in text2.lower():\n",
    "        count += 1\n",
    "if count == len(text1):\n",
    "    print(f'{text1} is anagrams of {text2}')\n",
    "else:\n",
    "    print(f'{text1} is not anagrams of {text2}') "
   ]
  },
  {
   "cell_type": "code",
   "execution_count": 15,
   "id": "7e9d91e4-637b-4bf9-9758-68e2d4aba632",
   "metadata": {},
   "outputs": [
    {
     "name": "stdout",
     "output_type": "stream",
     "text": [
      "2\n"
     ]
    }
   ],
   "source": [
    "# 5  Write code to find all occurrences  of a given substring within another string .\n",
    "string3 = 'Write code to find all occurrences  of a given substring within another string'\n",
    "substr ='string'\n",
    "all_occurances_substr = string3.count(substr)\n",
    "print(all_occurances_substr)"
   ]
  },
  {
   "cell_type": "code",
   "execution_count": 67,
   "id": "99848bb5-190d-4879-93d2-459c55c19c39",
   "metadata": {},
   "outputs": [
    {
     "name": "stdin",
     "output_type": "stream",
     "text": [
      "Enter any word i am rahul\n"
     ]
    },
    {
     "name": "stdout",
     "output_type": "stream",
     "text": [
      "i am rahul\n"
     ]
    }
   ],
   "source": [
    "# 6 Write code to perform basic string compression using the counts of repeated character .\n",
    "string4 = input(\"Enter any string\")\n",
    "count = 1\n",
    "string2 = ''\n",
    "for i in (range( 1,len(string4))):\n",
    "    if string4[i-1] == string4[i]:\n",
    "        count += 1\n",
    "    elif count != 1 :\n",
    "            string2 = string2 + string4[i-1] + str(count)\n",
    "            print(string2)\n",
    "            count = 1\n",
    "    else :\n",
    "            string2 = string2 + string4[i-1]\n",
    "if count != 1:\n",
    "      string2 = string2 + string4[-1] + str(count)\n",
    "else : \n",
    "      string2 = string2 + string4[-1] \n",
    "\n",
    "print(string2)\n",
    "              \n",
    "        "
   ]
  },
  {
   "cell_type": "raw",
   "id": "20d2ce2f-0c32-4d85-bfdd-ce26ce922934",
   "metadata": {},
   "source": []
  },
  {
   "cell_type": "code",
   "execution_count": 12,
   "id": "0d6d90fc-03e0-416a-94cf-6dc057f9733f",
   "metadata": {},
   "outputs": [
    {
     "name": "stdout",
     "output_type": "stream",
     "text": [
      "rahul has all unique character\n"
     ]
    }
   ],
   "source": [
    "# 7  Write a code to determine if a string has all unique character .\n",
    "Text ='rahul'\n",
    "counts = 0\n",
    "for i in Text:\n",
    "    if Text.count(i) == 1:\n",
    "        counts += 1\n",
    "if counts == len(Text):\n",
    "    print(f\"{Text} has all unique character\")\n",
    "else:\n",
    "     print(f\"{Text} has not all unique character\")"
   ]
  },
  {
   "cell_type": "code",
   "execution_count": 14,
   "id": "27d7f2a7-a2e0-4b35-912e-29a495a517f7",
   "metadata": {},
   "outputs": [
    {
     "name": "stdout",
     "output_type": "stream",
     "text": [
      "rahul\n",
      "RAHUL\n"
     ]
    }
   ],
   "source": [
    "# 8 Write a code to convert a given string to uppercase or lowercase\n",
    "String5 = \"Rahul\"\n",
    "lowercase = String5.lower()\n",
    "uppercase = String5.upper()\n",
    "print(lowercase)\n",
    "print(uppercase)"
   ]
  },
  {
   "cell_type": "code",
   "execution_count": 17,
   "id": "31c8f9c2-3f3b-4e1e-a9da-21a0c44e185f",
   "metadata": {},
   "outputs": [
    {
     "name": "stdout",
     "output_type": "stream",
     "text": [
      "4\n"
     ]
    }
   ],
   "source": [
    "# 9 Write a code to count the number of words in a string\n",
    "intro = \"i am a programmer\"\n",
    "numOf_word = len(intro.split(\" \"))\n",
    "print(numOf_word)\n"
   ]
  },
  {
   "cell_type": "code",
   "execution_count": 70,
   "id": "73b857e9-0b98-4873-a524-3cb8135536d9",
   "metadata": {},
   "outputs": [
    {
     "name": "stdout",
     "output_type": "stream",
     "text": [
      "i am a python programmer\n"
     ]
    }
   ],
   "source": [
    "# 10  Write a code to concatenate two strings without using the + operator\n",
    "text1 = \"i am a python\"\n",
    "text2 = \"programmer\"\n",
    "print(f\"{text1} {text2}\")\n",
    "\n"
   ]
  },
  {
   "cell_type": "code",
   "execution_count": 2,
   "id": "a744c70e-9b74-4565-a504-a815f5f3dd12",
   "metadata": {},
   "outputs": [
    {
     "name": "stdout",
     "output_type": "stream",
     "text": [
      "[1, 2, 'hello world', False]\n"
     ]
    }
   ],
   "source": [
    "# 11  Write a code to remove all occurrences of a specific element from a list\n",
    "List= ['pwskills', 1,2,'hello world','pwskills',False]\n",
    "element = 'pwskills'\n",
    "Count = List.count(element)\n",
    "for i in range(Count):\n",
    "    List.remove(element)\n",
    "print(List)"
   ]
  },
  {
   "cell_type": "code",
   "execution_count": 7,
   "id": "61686a92-b8de-4ff9-a47e-9b3b14ca9d32",
   "metadata": {},
   "outputs": [
    {
     "name": "stdout",
     "output_type": "stream",
     "text": [
      "600\n"
     ]
    }
   ],
   "source": [
    "# 12  Implement a code to find the second largest number in a given list of integer .\n",
    "List = [200,300,400,600,6,8999,500]\n",
    "First_larg= max(List)\n",
    "List.remove(First_larg)\n",
    "Second_larg = max(List)\n",
    "print(Second_larg)"
   ]
  },
  {
   "cell_type": "code",
   "execution_count": 15,
   "id": "cf6d9ae5-7add-455a-9659-fd045b372031",
   "metadata": {},
   "outputs": [
    {
     "name": "stdout",
     "output_type": "stream",
     "text": [
      "pw skill\n",
      "3\n",
      "rahul\n",
      "2\n",
      "pw skill\n",
      "3\n",
      "rahul\n",
      "2\n",
      "pw skill\n",
      "3\n",
      "1\n",
      "1\n",
      "{'pw skill': 1, 'rahul': 2, 1: 1}\n"
     ]
    }
   ],
   "source": [
    "# 13  Create a code to count the occurrences of each element in a list and return a dictionary\n",
    "# with elements as key and their counts as value\n",
    "List1 = ['pw skill', 'rahul', 'pw skill', 'rahul', 'pw skill', 1]\n",
    "dict1 ={'pw skill': 1}\n",
    "for i in List1 :\n",
    "    c = List1.count(i)\n",
    "    if i not in list(dict1.keys()):\n",
    "        dict1[i]= c\n",
    "\n",
    "print(dict1)\n",
    "     \n",
    "        "
   ]
  },
  {
   "cell_type": "markdown",
   "id": "99fcff6b-fb72-4aba-94b8-af954c019507",
   "metadata": {},
   "source": [
    "######"
   ]
  },
  {
   "cell_type": "code",
   "execution_count": 19,
   "id": "1f36b8c0-1a4d-470b-ba56-755cc200c7ff",
   "metadata": {},
   "outputs": [
    {
     "name": "stdout",
     "output_type": "stream",
     "text": [
      "[23.4, True, 'hello world', 'rahul', 3, 2, 1]\n"
     ]
    }
   ],
   "source": [
    "# 14  Write a code to reverse a list in-place without using an built-in reverse functions .\n",
    "list_l = [1,2,3,'rahul','hello world',True,23.4]\n",
    "reverse_list =[]\n",
    "count = -1\n",
    "for i in range(len(list_l)):\n",
    "    reverse_list.append(list_l[count])\n",
    "    count -= 1\n",
    "print(reverse_list)\n",
    "    "
   ]
  },
  {
   "cell_type": "code",
   "execution_count": 35,
   "id": "39b83fc3-4239-4eeb-8cbe-676db39ecaa3",
   "metadata": {},
   "outputs": [
    {
     "name": "stdout",
     "output_type": "stream",
     "text": [
      "[2, 1, 3, 4, 5, 6, 7, 'pw skill', 'rahul']\n"
     ]
    }
   ],
   "source": [
    "# 15 implement a code to find and remove duplicates from a list while preserving the original order of  elements .\n",
    "list_2 = [2,1,3,4,5,6,7,6,7,'pw skill','rahul','pw skill']\n",
    "unique_ = [] \n",
    "for i in list_2 :\n",
    "    if i not in unique_ :\n",
    "        unique_.append(i)\n",
    "print(unique_)\n",
    "    "
   ]
  },
  {
   "cell_type": "code",
   "execution_count": 21,
   "id": "f4b5c9a2-e5c2-42c9-bfe4-2b07a2127aff",
   "metadata": {},
   "outputs": [
    {
     "name": "stdout",
     "output_type": "stream",
     "text": [
      "list sorted in ascending order\n"
     ]
    }
   ],
   "source": [
    "# 16  Create a code to check if a given list in sorted (either in ascending or descending order) or not .\n",
    "LIST = ['pw skill', 'rahul','rohit','data science'] \n",
    "LIST.sort()\n",
    "des = 1\n",
    "asc = 1\n",
    "for i in range(1,len(LIST)):\n",
    "    if LIST[i][0] > LIST[i-1][0]:\n",
    "        asc +=1\n",
    "    elif LIST[i][0] > LIST[i-1][0]:\n",
    "        des +=1\n",
    "    elif LIST[i][0] == LIST[i-1][0]:\n",
    "        des +=1\n",
    "        asc +=1\n",
    "if asc == len(LIST):\n",
    "    print('list sorted in ascending order')\n",
    "elif des == len(LIST):\n",
    "    print('list sorted in descending order')\n",
    "else:\n",
    "    print('list is not sorted')"
   ]
  },
  {
   "cell_type": "code",
   "execution_count": 33,
   "id": "eb4b0580-3561-488d-a589-e429c34b5fa3",
   "metadata": {},
   "outputs": [
    {
     "name": "stdout",
     "output_type": "stream",
     "text": [
      "[1, 2, 3, 4, 5, 7, 7, 8, 8, 35, 45, 90]\n"
     ]
    }
   ],
   "source": [
    "#17 Write a code to merge two sorted lists into a single sorted list .\n",
    "listing = [1,2,35,7,8,45]\n",
    "listing1 =[3,4,5,7,8,90]\n",
    "listing.sort()\n",
    "listing1.sort()\n",
    "merg_list = []\n",
    "for x in listing:\n",
    "     merg_list.append(x)\n",
    "for y in listing1:\n",
    "     merg_list.append(y)\n",
    "merg_list.sort()\n",
    "print(merg_list)"
   ]
  },
  {
   "cell_type": "code",
   "execution_count": 40,
   "id": "b63ee10a-6722-4e49-96aa-460e6dec6ebb",
   "metadata": {},
   "outputs": [
    {
     "name": "stdout",
     "output_type": "stream",
     "text": [
      "[1, 3, 5, 6, 'pw skill', 78, True]\n"
     ]
    }
   ],
   "source": [
    "# 18 Implement a code to find the intersection of two given list .\n",
    "list_11 = [1,2,3,5,6,'pw skill',78,'rahul', True, False]\n",
    "list_12 =[3,4,5,78,'pw skill',True,'rohit',6,10]\n",
    "intersect_list =[]\n",
    "for i in list_11:\n",
    "    for y in list_12:\n",
    "        if i == y:\n",
    "            intersect_list.append(i)\n",
    "print(intersect_list)"
   ]
  },
  {
   "cell_type": "code",
   "execution_count": 41,
   "id": "e8766dd2-8313-476d-a139-0f4cdec0b46b",
   "metadata": {},
   "outputs": [
    {
     "name": "stdout",
     "output_type": "stream",
     "text": [
      "[1, 2, 3, 5, 89, 'pwskill', 'rahul', 4, 6, 'datascience', 11]\n"
     ]
    }
   ],
   "source": [
    "# 19  Create a code to find the union of two lists without duplicate .\n",
    "list_13 = [1,2,3,5,89,'pwskill' ,'rahul',4,2,5]\n",
    "list_14 =[2,3,4,6,89,'rahul','datascience',11]\n",
    "union= []\n",
    "for x in list_13:\n",
    "    if x not in union:\n",
    "        union.append(x)\n",
    "for y in list_14:\n",
    "    if y not in union:\n",
    "        union.append(y)\n",
    "print(union)"
   ]
  },
  {
   "cell_type": "code",
   "execution_count": 6,
   "id": "089e9280-4a78-4ac1-852c-458d31279409",
   "metadata": {},
   "outputs": [
    {
     "name": "stdout",
     "output_type": "stream",
     "text": [
      "['apple', 'orange', 'mongo', 'grapes', 'banana']\n"
     ]
    }
   ],
   "source": [
    "# 20  Write a code to shuffle a given list randomly without using an built-in shuffle functions \n",
    "list_15 = ['banana', 'apple','orange', 'grapes','mongo']\n",
    "import random\n",
    "for i in range(len(list_15)):\n",
    "    indx = random.randint(0,len(list_15))\n",
    "    fruit = list_15.pop(indx-1)\n",
    "    list_15.append(fruit)\n",
    "print(list_15)\n",
    "    "
   ]
  },
  {
   "cell_type": "code",
   "execution_count": 5,
   "id": "674f2d94-db2e-43db-948e-c7d832a7057f",
   "metadata": {},
   "outputs": [
    {
     "name": "stdin",
     "output_type": "stream",
     "text": [
      "1st tuple as input seperated by commas 1,2,3,4,5,6,7\n",
      "1st tuple as input seperated by commas 3,4,5,6,7,87,9\n"
     ]
    },
    {
     "name": "stdout",
     "output_type": "stream",
     "text": [
      "3\n",
      "4\n",
      "5\n",
      "6\n",
      "7\n",
      "('3', '4', '5', '6', '7')\n"
     ]
    }
   ],
   "source": [
    "# 21 Write a code that takes two tuples as input and returns a new tuple containing elements that are \n",
    "# common to both input tuple .\n",
    "input1 = input(\"1st tuple as input seperated by commas\")\n",
    "input2 = input(\"1st tuple as input seperated by commas\")\n",
    "tuple_1 = tuple(input1.split(\",\"))\n",
    "tuple_2 = tuple(input2.split(\",\"))\n",
    "input2 = ()\n",
    "common_tup = ()\n",
    "for x in tuple_1:\n",
    "    for y in tuple_2:\n",
    "        if x == y :\n",
    "            common_tup +=  (x,) \n",
    "print(common_tup)"
   ]
  },
  {
   "cell_type": "code",
   "execution_count": 3,
   "id": "afb36c44-9f35-4c99-9f6c-1c8878f67f09",
   "metadata": {},
   "outputs": [
    {
     "name": "stdin",
     "output_type": "stream",
     "text": [
      "1st sets of integers separated by  commas 1,2,3,4,5\n",
      "1st sets of integers separated by  commas 2,3,4,7,8\n"
     ]
    },
    {
     "name": "stdout",
     "output_type": "stream",
     "text": [
      "{'2', '3', '4'}\n"
     ]
    }
   ],
   "source": [
    "# 22  Create a code that prompts the user to enter two sets of integers separated by  commas. Then, print the \n",
    "#intersection of these two sets .\n",
    "input_1 = input(\"1st sets of integers separated by  commas\")\n",
    "input_2 = input(\"1st sets of integers separated by  commas\")\n",
    "set_1 = set(input_1.split(\",\"))\n",
    "set_2 = set(input_2.split(\",\"))\n",
    "intrsec_sets = set_1 & set_2\n",
    "print(intrsec_sets)"
   ]
  },
  {
   "cell_type": "code",
   "execution_count": 2,
   "id": "a325fefe-f1c5-49ff-bc46-c938b4f3cae9",
   "metadata": {},
   "outputs": [
    {
     "data": {
      "text/plain": [
       "(1, 2, 3, 4, 5, 3, 4, 5, 6, 7)"
      ]
     },
     "execution_count": 2,
     "metadata": {},
     "output_type": "execute_result"
    }
   ],
   "source": [
    "# 23  Write a code to concatenate two tuples. The function should take two tuples as input and return a new \n",
    "# tuple containing elements from both input tuples.\n",
    "def concate(tup1,tup2):\n",
    "    \"\"\"this function takes two tuple as a argument \n",
    "    return : concatenate of these two tuple\"\"\"\n",
    "    return tup1+tup2\n",
    "concate((1,2,3,4,5),(3,4,5,6,7))"
   ]
  },
  {
   "cell_type": "code",
   "execution_count": 4,
   "id": "159cabba-0ac9-4270-b4d6-84b7aeef5988",
   "metadata": {},
   "outputs": [
    {
     "name": "stdin",
     "output_type": "stream",
     "text": [
      "input 1st sets of strings rahul robin pwskill is\n",
      "input 2nd sets of strings rahul robin\n"
     ]
    },
    {
     "name": "stdout",
     "output_type": "stream",
     "text": [
      "pwskill\n",
      "is\n"
     ]
    }
   ],
   "source": [
    "# 24  Develop a code that prompts the user to input two sets of strings. Then print the elements that are \n",
    "#present in the first set but not in the second sets\n",
    "input_11 = input(\"input 1st set of word\")\n",
    "input_12 = input(\"input 2nd set of word\")\n",
    "set_11 =set(input_11.split(\" \"))\n",
    "set_12 =set(input_12.split(\" \"))\n",
    "for i in set_11:\n",
    "    if i not in set_12:\n",
    "        print(i) # return element of set_11 which  is not present in set_12"
   ]
  },
  {
   "cell_type": "code",
   "execution_count": 10,
   "id": "403336a8-f24e-4ad4-95fa-cea2ff92582b",
   "metadata": {},
   "outputs": [
    {
     "data": {
      "text/plain": [
       "(5, 6)"
      ]
     },
     "execution_count": 10,
     "metadata": {},
     "output_type": "execute_result"
    }
   ],
   "source": [
    "# 25 Create a code that takes a tuple and two integers as input . The function should return a new tuple \n",
    " #containing elements from the original tuple within the specified range of indices .\n",
    "def specified(tuple1,ind1,ind2):\n",
    "    \"\"\" this function takes one tuple as a argument tuple1 and\n",
    "    two integer to define indices range as a argument ind1,ind2\n",
    "    return: new tuple within the specified range of inices from tuple1\"\"\"\n",
    "    newtuple = tuple1[ind1:ind2]\n",
    "    return newtuple\n",
    "specified((2,4,5,6,7),2,4)"
   ]
  },
  {
   "cell_type": "code",
   "execution_count": 13,
   "id": "55270d09-9e2f-4633-b194-b1afc7014b07",
   "metadata": {},
   "outputs": [
    {
     "name": "stdin",
     "output_type": "stream",
     "text": [
      "enter multiple of characters 1 r t y u h j\n",
      "enter 2nd multiple characters 1 2 r g h j k\n"
     ]
    },
    {
     "name": "stdout",
     "output_type": "stream",
     "text": [
      "{'u', 'g', '2', 'r', 't', '1', 'j', 'k', 'y', 'h'}\n"
     ]
    }
   ],
   "source": [
    "# 26  Write a code that prompts the user to input two sets of characters. Then print the union of these two sets.\n",
    "input_13 = input(\"enter multiple of characters separated by space\")\n",
    "input_14 = input(\"enter 2nd multiple characters separated by space\")\n",
    "set_13 = set(input_13.split(\" \"))\n",
    "set_14 = set(input_14.split(\" \"))\n",
    "union_sets = set_13 | set_14\n",
    "print(union_sets)"
   ]
  },
  {
   "cell_type": "code",
   "execution_count": 34,
   "id": "1f093661-e5f2-42d8-8466-e438c3da350a",
   "metadata": {},
   "outputs": [
    {
     "data": {
      "text/plain": [
       "'min value is 1 and maximun value is 8'"
      ]
     },
     "execution_count": 34,
     "metadata": {},
     "output_type": "execute_result"
    }
   ],
   "source": [
    "# 27 Develop a code that takes a tuple of integers as input. The function should return the maximum and \n",
    "# minimum values from the tuple using tuple unpacking.\n",
    "def tuple_11(tup):\n",
    "    tup_1 = tuple(sorted(tup))\n",
    "    (min1 ,*rest,max1) = tup_1\n",
    "    return f\"min value is {min1} and maximun value is {max1}\"\n",
    "tuple_11((1,2,3,4,5,6,7,8))"
   ]
  },
  {
   "cell_type": "code",
   "execution_count": 42,
   "id": "62012490-c148-43b3-8c6f-c086a7cda4b7",
   "metadata": {},
   "outputs": [
    {
     "name": "stdout",
     "output_type": "stream",
     "text": [
      "Union of given two set is :{False, 1, 2, 4.0, 6, 7, 8, 9, 'pw skill', 'data science', 'generative', 35, 'rahul'} \n",
      "intersection of given two set is :{True, 2, 35, 4.0, 7, 'pw skill'} \n",
      "difference of given two set is :{False, 'rahul', 6, 'data science'}\n"
     ]
    }
   ],
   "source": [
    "# 28 Create a code that defines two sets of integers. Then print the union intersection and difference of these two sets .\n",
    "setst = {1,2,35,6,7,'pw skill','rahul','data science',True,False, 4.0}\n",
    "setnd = {2,35,7,8,9,'generative','pw skill',True,4.0}\n",
    "union = setst | setnd\n",
    "intersection = setst & setnd\n",
    "difference = setst - setnd\n",
    "print(f\"Union of given two set is :{union} \\nintersection of given two set is :{intersection} \\ndifference of given two set is :{difference}\")"
   ]
  },
  {
   "cell_type": "code",
   "execution_count": 43,
   "id": "d814d9b5-97aa-4e89-aa86-c870a9eb199b",
   "metadata": {},
   "outputs": [
    {
     "data": {
      "text/plain": [
       "3"
      ]
     },
     "execution_count": 43,
     "metadata": {},
     "output_type": "execute_result"
    }
   ],
   "source": [
    "# 29  Write a code that takes a tuple and an element as input. The function should return the count of occurrences \n",
    "#of the given element in the tuple.\n",
    "def count_Occurence(tuple1,el):\n",
    "    \"\"\"this function takes tuple as a argument tuple1 and elements as a argument el\n",
    "    return: counts of element el in tuple1\"\"\"\n",
    "    count = tuple1.count(el)\n",
    "    return count\n"
   ]
  },
  {
   "cell_type": "code",
   "execution_count": 47,
   "id": "1a02b85c-845e-4a7c-8d0b-8c94643b087b",
   "metadata": {},
   "outputs": [
    {
     "name": "stdin",
     "output_type": "stream",
     "text": [
      "input 1st multiple of word rahul is developer and bussiness\n",
      "input 2nd multiple of word robin is bussiness\n"
     ]
    },
    {
     "name": "stdout",
     "output_type": "stream",
     "text": [
      "the symmetric difference is: {'developer', 'robin', 'and', 'rahul'}\n"
     ]
    }
   ],
   "source": [
    "#30 Develop a code that prompts the user to input two sets of strings. Then print the symmetric difference of these two sets.\n",
    "input_15 = input(\"input 1st multiple of word\")\n",
    "input_16 = input(\"input 2nd multiple of word\")\n",
    "set_15 =set(input_15.split(\" \"))\n",
    "set_16 =set(input_16.split(\" \"))\n",
    "symmetric_diff = set_15 ^ set_16\n",
    "print(f\"the symmetric difference is: {symmetric_diff}\")"
   ]
  },
  {
   "cell_type": "code",
   "execution_count": 3,
   "id": "c66ea510-f089-4854-a566-f7e6750eb8b1",
   "metadata": {},
   "outputs": [
    {
     "name": "stdout",
     "output_type": "stream",
     "text": [
      "{1: 4, 3: 2, 4: 2, 6: 1, 7: 2, 9: 1, 'rahul': 1, 55: 1, 'pw skill': 1}\n"
     ]
    }
   ],
   "source": [
    "# 31 Write a code that takes a list of words as input and returns a dictionary where the keys are unique words \n",
    "# and the values are the frequencies of those words in the input list .\n",
    "list_word = [1,3,4,55,6,7,1,1,1,3,4,\"pw skill\", 'rahul',7,9]\n",
    "dict_ = {}\n",
    "for i in set(list_word):\n",
    "    dict_[i]=list_word.count(i)\n",
    "print(dict_)\n",
    "    "
   ]
  },
  {
   "cell_type": "code",
   "execution_count": 22,
   "id": "6e5690c7-3340-478d-b246-a16ca34572e3",
   "metadata": {},
   "outputs": [
    {
     "name": "stdout",
     "output_type": "stream",
     "text": [
      "{5: 'data science', 1: ('rahul', 'pw skill'), 6: (4, 1), 2: 'ayush', 3: 'abhishek', 4: 'aashish'}\n"
     ]
    }
   ],
   "source": [
    "# 32 Write a code that takes two dictionaries as input and merges them into a single dictionary. If there are \n",
    "#common keys the values should be added together .\n",
    "dict_1 = {1 : \"rahul\",2:\"ayush\",3:\"abhishek\",4:\"aashish\", 6:4}\n",
    "dict_2 = {5: \"data science\",1:\"pw skill\" ,6:1}\n",
    "for i in dict_1:\n",
    "    if i in dict_2:\n",
    "        dict_2[i] = dict_1[i] , dict_2[i]\n",
    "    else:   \n",
    "         dict_2[i]=dict_1[i]\n",
    "print(dict_2) #merge dict_1 in dict_2\n",
    "   "
   ]
  },
  {
   "cell_type": "code",
   "execution_count": 11,
   "id": "9cbdddb2-4e0c-4caa-986c-8070343cd0d1",
   "metadata": {},
   "outputs": [
    {
     "data": {
      "text/plain": [
       "{1: 'pw skill'}"
      ]
     },
     "execution_count": 11,
     "metadata": {},
     "output_type": "execute_result"
    }
   ],
   "source": [
    "# 33 Write a code to access a value in a nested dictionary. The function should take the dictionary and a list of keys as\n",
    "#input and return the corresponding values If any of the keys do not exist in the dictionary the function should return None .\n",
    "dict_3 = {1:'pw skill', 2: {1:\"rahul\",2:\"ayush\",3:\"robin\"}}\n",
    "dict_3[2][1] # --> access a value in a nested dictionary\n",
    "\n",
    "def dict_key(dictionary,key):\n",
    "    if key in dictionary.keys():\n",
    "        return {key : dictionary[key]}\n",
    "    else:\n",
    "         return \"none\"\n",
    "dict_key({1:'pw skill', 2: {1:\"rahul\",2:\"ayush\",3:\"robin\"}},1)"
   ]
  },
  {
   "cell_type": "code",
   "execution_count": 19,
   "id": "e08ef25a-38c9-488d-8ae1-239441471382",
   "metadata": {},
   "outputs": [
    {
     "name": "stdout",
     "output_type": "stream",
     "text": [
      "{4: 'data sicence', 5: 'machine learning', 2: 'pwskill', 1: 'rahul'}\n"
     ]
    }
   ],
   "source": [
    "# 34  Write a code that takes a dictionary as input and returns a sorted version of it based on the values. You \n",
    "#  can choose whether to sort in ascending or descending order\n",
    "dict_12 = {1:\"rahul\", 2:\"pwskill\",4:\"data sicence\",5:\"machine learning\"}\n",
    "sorted_dict ={} # --> this  dictonary is sorted in  ascending order\n",
    "for i in sorted(dict_12.values()):\n",
    "    for j in dict_12.keys():\n",
    "        if dict_12[j]==i:\n",
    "            sorted_dict[j]=i\n",
    "print(sorted_dict)\n",
    "    "
   ]
  },
  {
   "cell_type": "code",
   "execution_count": 26,
   "id": "43f8ddb1-666b-4f76-914d-6038f2f4e732",
   "metadata": {},
   "outputs": [
    {
     "name": "stdout",
     "output_type": "stream",
     "text": [
      "{'rahul': [1, 6], 'pw skill': [2, 3], 'data science': 4, 'machine learning': 5}\n"
     ]
    }
   ],
   "source": [
    "# 35 Write a code that inverts a dictionary swapping keys and values. Ensure that the inverted dictionary \n",
    "# correctly handles cases where multiple keys have the same value be storing the keys as a list in the inverted dictionary\n",
    "dict_13 = {1:\"rahul\",2:\"pw skill\",3:\"pw skill\",4:\"data science\",5:\"machine learning\",6:\"rahul\"}\n",
    "inverted_dict = {}\n",
    "for key ,value in dict_13.items():\n",
    "    if value in inverted_dict.keys():\n",
    "        inverted_dict[value]= [inverted_dict[value],key]\n",
    "    else:\n",
    "        inverted_dict[value]=key\n",
    "print(inverted_dict)"
   ]
  },
  {
   "cell_type": "code",
   "execution_count": null,
   "id": "16b3172a-4e60-48f9-b972-60cf108ad325",
   "metadata": {},
   "outputs": [],
   "source": []
  }
 ],
 "metadata": {
  "kernelspec": {
   "display_name": "Python 3 (ipykernel)",
   "language": "python",
   "name": "python3"
  },
  "language_info": {
   "codemirror_mode": {
    "name": "ipython",
    "version": 3
   },
   "file_extension": ".py",
   "mimetype": "text/x-python",
   "name": "python",
   "nbconvert_exporter": "python",
   "pygments_lexer": "ipython3",
   "version": "3.10.8"
  }
 },
 "nbformat": 4,
 "nbformat_minor": 5
}
