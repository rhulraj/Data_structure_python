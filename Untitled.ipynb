{
 "cells": [
  {
   "cell_type": "code",
   "execution_count": 4,
   "id": "ff93b49c-5477-49b1-ad31-fb0248e948bd",
   "metadata": {},
   "outputs": [
    {
     "data": {
      "text/plain": [
       "'Pw skill'"
      ]
     },
     "execution_count": 4,
     "metadata": {},
     "output_type": "execute_result"
    }
   ],
   "source": [
    "input_str = \"     PW SKILL      \"\n",
    "strip =input_str.strip()\n",
    "strip[0].upper() + strip[1:].lower()"
   ]
  },
  {
   "cell_type": "code",
   "execution_count": null,
   "id": "ec4a5fc6-7022-45c6-b34f-e02991742ba6",
   "metadata": {},
   "outputs": [],
   "source": []
  }
 ],
 "metadata": {
  "kernelspec": {
   "display_name": "Python 3 (ipykernel)",
   "language": "python",
   "name": "python3"
  },
  "language_info": {
   "codemirror_mode": {
    "name": "ipython",
    "version": 3
   },
   "file_extension": ".py",
   "mimetype": "text/x-python",
   "name": "python",
   "nbconvert_exporter": "python",
   "pygments_lexer": "ipython3",
   "version": "3.10.8"
  }
 },
 "nbformat": 4,
 "nbformat_minor": 5
}
