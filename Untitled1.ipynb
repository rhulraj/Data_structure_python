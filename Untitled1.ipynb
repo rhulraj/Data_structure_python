{
 "cells": [
  {
   "cell_type": "code",
   "execution_count": 3,
   "id": "ab552778-af18-4a71-9cfa-c3fa0e97c632",
   "metadata": {},
   "outputs": [
    {
     "name": "stdout",
     "output_type": "stream",
     "text": [
      "['Rahul', 'Ayush', 'Aniket', 'Abhishek', 'Ashish']\n",
      "Rahul\n",
      "Ayush\n",
      "Aniket\n",
      "Abhishek\n",
      "Ashish\n",
      "['Yuvika', 'Trisha', 'Nikita', 'Prity']\n",
      "Yuvika\n",
      "Trisha\n",
      "Nikita\n",
      "Prity\n"
     ]
    }
   ],
   "source": [
    "list = [['Rahul', 'Ayush','Aniket','Abhishek','Ashish',],['Yuvika','Trisha','Nikita','Prity']]\n",
    "i=0\n",
    "for name in list:\n",
    "    print(name)\n",
    "    for n in list[i]:\n",
    "        print(n)\n",
    "    i+=1"
   ]
  },
  {
   "cell_type": "code",
   "execution_count": null,
   "id": "15b2fb58-86c9-4ccd-a9bc-5d632c639e0d",
   "metadata": {},
   "outputs": [],
   "source": [
    "# list =[5,7,8,9,4,0,8]\n",
    "# min = 0\n",
    "# lis = []\n",
    "# j=0\n",
    "# while j < len(list):\n",
    "#     for i in list:\n",
    "#         if i  in list1 :\n",
    "#             continue\n",
    "#         else:\n",
    "#             if min < i:\n",
    "#                 min = i\n",
    "#                 list1.append(i)\n",
    "#                 print(i)\n",
    "    \n",
    "        \n",
    "# print(list1)\n"
   ]
  },
  {
   "cell_type": "code",
   "execution_count": 3,
   "id": "e4fd74fd-7978-4ec8-bc71-754c21ddd447",
   "metadata": {},
   "outputs": [
    {
     "data": {
      "text/plain": [
       "['jpg', 'png', 'py']"
      ]
     },
     "execution_count": 3,
     "metadata": {},
     "output_type": "execute_result"
    }
   ],
   "source": [
    "filename =['rahul.jpg','ayush.png','aniket.py']\n",
    "[file.split(\".\")[-1] for file in filename]"
   ]
  },
  {
   "cell_type": "code",
   "execution_count": 8,
   "id": "31c04d30-21ce-4ba1-9101-eb2d27c8783d",
   "metadata": {},
   "outputs": [
    {
     "data": {
      "text/plain": [
       "['aniket', 'png']"
      ]
     },
     "execution_count": 8,
     "metadata": {},
     "output_type": "execute_result"
    }
   ],
   "source": [
    "filename1 = 'aniket.png'\n",
    "filename1.split(\".\")"
   ]
  },
  {
   "cell_type": "code",
   "execution_count": null,
   "id": "c58345ed-0a2c-4475-92a5-667f3ce9a0b0",
   "metadata": {},
   "outputs": [],
   "source": []
  },
  {
   "cell_type": "code",
   "execution_count": null,
   "id": "c7b5245a-8466-42ea-af46-86838326b544",
   "metadata": {},
   "outputs": [],
   "source": []
  },
  {
   "cell_type": "code",
   "execution_count": null,
   "id": "b289e804-c7ab-4ff9-a175-1afc37280847",
   "metadata": {},
   "outputs": [],
   "source": []
  },
  {
   "cell_type": "code",
   "execution_count": null,
   "id": "b6776db4-8998-420b-be81-4db55fd05391",
   "metadata": {},
   "outputs": [],
   "source": []
  }
 ],
 "metadata": {
  "kernelspec": {
   "display_name": "Python 3 (ipykernel)",
   "language": "python",
   "name": "python3"
  },
  "language_info": {
   "codemirror_mode": {
    "name": "ipython",
    "version": 3
   },
   "file_extension": ".py",
   "mimetype": "text/x-python",
   "name": "python",
   "nbconvert_exporter": "python",
   "pygments_lexer": "ipython3",
   "version": "3.10.8"
  }
 },
 "nbformat": 4,
 "nbformat_minor": 5
}
