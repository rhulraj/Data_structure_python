{
 "cells": [
  {
   "cell_type": "code",
   "execution_count": 2,
   "id": "cdcd9cf7-abbf-4621-abf9-07942ceb2b40",
   "metadata": {},
   "outputs": [
    {
     "data": {
      "text/plain": [
       "'dlroW olleH'"
      ]
     },
     "execution_count": 2,
     "metadata": {},
     "output_type": "execute_result"
    }
   ],
   "source": [
    "#Write code to reverse strings\n",
    "string = 'Hello World'\n",
    "string[::-1]"
   ]
  },
  {
   "cell_type": "code",
   "execution_count": 7,
   "id": "6ec49463-abdb-4ea7-b95f-3cb87b80ace4",
   "metadata": {},
   "outputs": [
    {
     "data": {
      "text/plain": [
       "2"
      ]
     },
     "execution_count": 7,
     "metadata": {},
     "output_type": "execute_result"
    }
   ],
   "source": [
    "string1 = 'i am a good person'\n",
    "string1.count('a')"
   ]
  },
  {
   "cell_type": "code",
   "execution_count": null,
   "id": "89c3ba49-a0a6-4313-aa01-9c9badf5c38b",
   "metadata": {},
   "outputs": [],
   "source": []
  }
 ],
 "metadata": {
  "kernelspec": {
   "display_name": "Python 3 (ipykernel)",
   "language": "python",
   "name": "python3"
  },
  "language_info": {
   "codemirror_mode": {
    "name": "ipython",
    "version": 3
   },
   "file_extension": ".py",
   "mimetype": "text/x-python",
   "name": "python",
   "nbconvert_exporter": "python",
   "pygments_lexer": "ipython3",
   "version": "3.10.8"
  }
 },
 "nbformat": 4,
 "nbformat_minor": 5
}
