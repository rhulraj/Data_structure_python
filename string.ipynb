{
 "cells": [
  {
   "cell_type": "code",
   "execution_count": 1,
   "id": "668e2025-dd54-4f2f-98d0-68b6767a2877",
   "metadata": {},
   "outputs": [
    {
     "data": {
      "text/plain": [
       "'i am a teacher'"
      ]
     },
     "execution_count": 1,
     "metadata": {},
     "output_type": "execute_result"
    }
   ],
   "source": [
    "#modification of string\n",
    "s = \"i am a student\"\n",
    "s.replace('student' , \"teacher\")"
   ]
  },
  {
   "cell_type": "code",
   "execution_count": 4,
   "id": "50319f36-c2a7-44e1-a699-06c8562dcfc3",
   "metadata": {},
   "outputs": [
    {
     "data": {
      "text/plain": [
       "'I am astudent. and good person'"
      ]
     },
     "execution_count": 4,
     "metadata": {},
     "output_type": "execute_result"
    }
   ],
   "source": [
    "text = \"i am astudent. and good person\"\n",
    "text.capitalize()"
   ]
  },
  {
   "cell_type": "code",
   "execution_count": null,
   "id": "6a2bddf7-a225-49d3-a26e-81c0c658397c",
   "metadata": {},
   "outputs": [],
   "source": []
  }
 ],
 "metadata": {
  "kernelspec": {
   "display_name": "Python 3 (ipykernel)",
   "language": "python",
   "name": "python3"
  },
  "language_info": {
   "codemirror_mode": {
    "name": "ipython",
    "version": 3
   },
   "file_extension": ".py",
   "mimetype": "text/x-python",
   "name": "python",
   "nbconvert_exporter": "python",
   "pygments_lexer": "ipython3",
   "version": "3.10.8"
  }
 },
 "nbformat": 4,
 "nbformat_minor": 5
}
